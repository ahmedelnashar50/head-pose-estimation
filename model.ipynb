{
 "cells": [
  {
   "cell_type": "code",
   "execution_count": 1,
   "id": "af4e8baf",
   "metadata": {},
   "outputs": [],
   "source": [
    "import scipy.io\n",
    "import numpy as np\n",
    "import os\n",
    "import glob\n",
    "import pandas as pd\n",
    "import cv2\n",
    "import mediapipe as mp\n",
    "from tqdm import tqdm\n",
    "from sklearn.model_selection import train_test_split\n",
    "from sklearn.multioutput import MultiOutputRegressor\n",
    "from sklearn.svm import SVR\n",
    "from sklearn.metrics import mean_squared_error, r2_score\n",
    "import pickle"
   ]
  },
  {
   "cell_type": "code",
   "execution_count": 2,
   "id": "7ef4de16",
   "metadata": {},
   "outputs": [],
   "source": [
    "# Map angles to [-π, π] )\n",
    "def map_to_pi(angle):\n",
    "    return (angle + np.pi) % (2 * np.pi) - np.pi"
   ]
  },
  {
   "cell_type": "code",
   "execution_count": 3,
   "id": "ccfea967",
   "metadata": {},
   "outputs": [],
   "source": [
    "# Preprocess landmarks\n",
    "def preprocess(face, width=450, height=450):\n",
    "    x_val = [lm.x * width for lm in face.landmark]\n",
    "    y_val = [lm.y * height for lm in face.landmark]\n",
    "    x_val = np.array(x_val) - np.mean(x_val[1])  # Center around nose\n",
    "    y_val = np.array(y_val) - np.mean(y_val[1])\n",
    "    x_val = x_val / x_val.max() if x_val.max() != 0 else x_val\n",
    "    y_val = y_val / y_val.max() if y_val.max() != 0 else y_val\n",
    "    return np.concatenate([x_val, y_val])"
   ]
  },
  {
   "cell_type": "code",
   "execution_count": 4,
   "id": "3fd26f06",
   "metadata": {},
   "outputs": [],
   "source": [
    "# Path to dataset folder containing .mat files and images\n",
    "folder = \"AFLW2000\"\n",
    "# Get all .mat files in the dataset folder\n",
    "mat_files = sorted(glob.glob(os.path.join(folder, \"*.mat\")))\n",
    "\n",
    "# Empty list to store extracted pose information\n",
    "pose_data = []\n",
    "\n",
    "# Loop over all .mat files\n",
    "for filename in mat_files:\n",
    "    try:\n",
    "        # Load the .mat file\n",
    "        mat = scipy.io.loadmat(filename)\n",
    "\n",
    "        # Usually AFLW2000 has \"Pose_Para\" or \"pt2d\"\n",
    "        if \"Pose_Para\" not in mat:\n",
    "            print(f\"⚠️ Pose_Para not found in {filename}, skipping...\")\n",
    "            continue\n",
    "\n",
    "        # Extract pose parameters (yaw, pitch, roll, translation, etc.)\n",
    "        pose = mat[\"Pose_Para\"]  # shape (1,7) or (7,1)\n",
    "        pose = pose.reshape(-1)\n",
    "\n",
    "        # Extract pitch, yaw, roll and normalize to [-pi, pi]\n",
    "        pitch, yaw, roll = map_to_pi(pose[0]), map_to_pi(pose[1]), map_to_pi(pose[2])\n",
    "\n",
    "\n",
    "        # Store extracted pose with corresponding image filename\n",
    "        pose_data.append({\n",
    "            \"mat_file\": os.path.basename(filename),\n",
    "            \"image\": os.path.basename(filename).replace(\".mat\", \".jpg\"),\n",
    "            \"yaw\": yaw,\n",
    "            \"pitch\": pitch,\n",
    "            \"roll\": roll\n",
    "        })\n",
    "\n",
    "    except Exception as e:\n",
    "        print(f\"❌ Error reading {filename}: {e}\")\n",
    "\n",
    "# Convert all extracted pose data into a DataFrame for later use\n",
    "df_pose = pd.DataFrame(pose_data)"
   ]
  },
  {
   "cell_type": "code",
   "execution_count": 5,
   "id": "4f3311bf",
   "metadata": {},
   "outputs": [
    {
     "data": {
      "text/html": [
       "<div>\n",
       "<style scoped>\n",
       "    .dataframe tbody tr th:only-of-type {\n",
       "        vertical-align: middle;\n",
       "    }\n",
       "\n",
       "    .dataframe tbody tr th {\n",
       "        vertical-align: top;\n",
       "    }\n",
       "\n",
       "    .dataframe thead th {\n",
       "        text-align: right;\n",
       "    }\n",
       "</style>\n",
       "<table border=\"1\" class=\"dataframe\">\n",
       "  <thead>\n",
       "    <tr style=\"text-align: right;\">\n",
       "      <th></th>\n",
       "      <th>mat_file</th>\n",
       "      <th>image</th>\n",
       "      <th>yaw</th>\n",
       "      <th>pitch</th>\n",
       "      <th>roll</th>\n",
       "    </tr>\n",
       "  </thead>\n",
       "  <tbody>\n",
       "    <tr>\n",
       "      <th>0</th>\n",
       "      <td>image00002.mat</td>\n",
       "      <td>image00002.jpg</td>\n",
       "      <td>0.018227</td>\n",
       "      <td>-0.399231</td>\n",
       "      <td>0.085676</td>\n",
       "    </tr>\n",
       "    <tr>\n",
       "      <th>1</th>\n",
       "      <td>image00004.mat</td>\n",
       "      <td>image00004.jpg</td>\n",
       "      <td>1.189533</td>\n",
       "      <td>0.470065</td>\n",
       "      <td>0.300959</td>\n",
       "    </tr>\n",
       "    <tr>\n",
       "      <th>2</th>\n",
       "      <td>image00006.mat</td>\n",
       "      <td>image00006.jpg</td>\n",
       "      <td>0.881137</td>\n",
       "      <td>-0.184650</td>\n",
       "      <td>-0.236852</td>\n",
       "    </tr>\n",
       "    <tr>\n",
       "      <th>3</th>\n",
       "      <td>image00008.mat</td>\n",
       "      <td>image00008.jpg</td>\n",
       "      <td>0.299208</td>\n",
       "      <td>-0.175379</td>\n",
       "      <td>-0.373374</td>\n",
       "    </tr>\n",
       "    <tr>\n",
       "      <th>4</th>\n",
       "      <td>image00010.mat</td>\n",
       "      <td>image00010.jpg</td>\n",
       "      <td>1.198004</td>\n",
       "      <td>-0.882169</td>\n",
       "      <td>-1.033374</td>\n",
       "    </tr>\n",
       "  </tbody>\n",
       "</table>\n",
       "</div>"
      ],
      "text/plain": [
       "         mat_file           image       yaw     pitch      roll\n",
       "0  image00002.mat  image00002.jpg  0.018227 -0.399231  0.085676\n",
       "1  image00004.mat  image00004.jpg  1.189533  0.470065  0.300959\n",
       "2  image00006.mat  image00006.jpg  0.881137 -0.184650 -0.236852\n",
       "3  image00008.mat  image00008.jpg  0.299208 -0.175379 -0.373374\n",
       "4  image00010.mat  image00010.jpg  1.198004 -0.882169 -1.033374"
      ]
     },
     "execution_count": 5,
     "metadata": {},
     "output_type": "execute_result"
    }
   ],
   "source": [
    "df_pose.head()"
   ]
  },
  {
   "cell_type": "code",
   "execution_count": 6,
   "id": "e0db278d",
   "metadata": {},
   "outputs": [
    {
     "name": "stderr",
     "output_type": "stream",
     "text": [
      "Processing images: 100%|██████████| 2000/2000 [00:13<00:00, 146.05it/s]\n"
     ]
    }
   ],
   "source": [
    "# Extract Face Landmarks using Mediapipe\n",
    "\n",
    "mp_face_mesh = mp.solutions.face_mesh\n",
    "\n",
    "folder_path = \"AFLW2000\"   # folder containing your .jpg files\n",
    "image_files = [f for f in os.listdir(folder_path) if f.endswith(\".jpg\")]\n",
    "\n",
    "# Empty list to store landmark data\n",
    "all_data = []\n",
    "\n",
    "# Use MediaPipe FaceMesh to detect face landmarks\n",
    "with mp_face_mesh.FaceMesh(\n",
    "    static_image_mode=True,\n",
    "    max_num_faces=1,\n",
    "    refine_landmarks=True,\n",
    "    min_detection_confidence=0.5\n",
    ") as face_mesh:\n",
    "\n",
    "    # Use MediaPipe FaceMesh to detect face landmarks\n",
    "    for img_file in tqdm(image_files, desc=\"Processing images\"):\n",
    "        img_path = os.path.join(folder_path, img_file)\n",
    "        # Load image\n",
    "        image = cv2.imread(img_path)\n",
    "        if image is None:\n",
    "            continue\n",
    "\n",
    "        h, w, _ = image.shape # Get image dimensions\n",
    "        rgb_image = cv2.cvtColor(image, cv2.COLOR_BGR2RGB) # Convert BGR to RGB\n",
    "\n",
    "        # Load image\n",
    "        results = face_mesh.process(rgb_image)\n",
    "        if results.multi_face_landmarks:\n",
    "            # take the first face only\n",
    "            face_landmarks = results.multi_face_landmarks[0]\n",
    "            # Preprocess landmarks\n",
    "            landmarks = preprocess(face_landmarks, image.shape[1], image.shape[0])\n",
    "            # Append to all_data\n",
    "            all_data.append([img_file, landmarks])\n",
    "\n"
   ]
  },
  {
   "cell_type": "code",
   "execution_count": 7,
   "id": "7beabd3b",
   "metadata": {},
   "outputs": [],
   "source": [
    "# Save to dataframe\n",
    "df_landmark = pd.DataFrame(all_data, columns=[\"image\", \"marks_values\"])"
   ]
  },
  {
   "cell_type": "code",
   "execution_count": 8,
   "id": "29554f34",
   "metadata": {},
   "outputs": [
    {
     "data": {
      "text/html": [
       "<div>\n",
       "<style scoped>\n",
       "    .dataframe tbody tr th:only-of-type {\n",
       "        vertical-align: middle;\n",
       "    }\n",
       "\n",
       "    .dataframe tbody tr th {\n",
       "        vertical-align: top;\n",
       "    }\n",
       "\n",
       "    .dataframe thead th {\n",
       "        text-align: right;\n",
       "    }\n",
       "</style>\n",
       "<table border=\"1\" class=\"dataframe\">\n",
       "  <thead>\n",
       "    <tr style=\"text-align: right;\">\n",
       "      <th></th>\n",
       "      <th>image</th>\n",
       "      <th>marks_values</th>\n",
       "    </tr>\n",
       "  </thead>\n",
       "  <tbody>\n",
       "    <tr>\n",
       "      <th>0</th>\n",
       "      <td>image00002.jpg</td>\n",
       "      <td>[-0.004888512887593222, 0.0, 0.009465049577641...</td>\n",
       "    </tr>\n",
       "    <tr>\n",
       "      <th>1</th>\n",
       "      <td>image00004.jpg</td>\n",
       "      <td>[0.09810980194008903, 0.0, 0.09116667846005758...</td>\n",
       "    </tr>\n",
       "    <tr>\n",
       "      <th>2</th>\n",
       "      <td>image00006.jpg</td>\n",
       "      <td>[0.025413889513647227, 0.0, -0.011194460805470...</td>\n",
       "    </tr>\n",
       "    <tr>\n",
       "      <th>3</th>\n",
       "      <td>image00008.jpg</td>\n",
       "      <td>[0.1455376506244284, 0.0, 0.07284436427867869,...</td>\n",
       "    </tr>\n",
       "    <tr>\n",
       "      <th>4</th>\n",
       "      <td>image00013.jpg</td>\n",
       "      <td>[0.07809535117165153, 0.0, 0.01967548868284996...</td>\n",
       "    </tr>\n",
       "  </tbody>\n",
       "</table>\n",
       "</div>"
      ],
      "text/plain": [
       "            image                                       marks_values\n",
       "0  image00002.jpg  [-0.004888512887593222, 0.0, 0.009465049577641...\n",
       "1  image00004.jpg  [0.09810980194008903, 0.0, 0.09116667846005758...\n",
       "2  image00006.jpg  [0.025413889513647227, 0.0, -0.011194460805470...\n",
       "3  image00008.jpg  [0.1455376506244284, 0.0, 0.07284436427867869,...\n",
       "4  image00013.jpg  [0.07809535117165153, 0.0, 0.01967548868284996..."
      ]
     },
     "execution_count": 8,
     "metadata": {},
     "output_type": "execute_result"
    }
   ],
   "source": [
    "df_landmark.head()"
   ]
  },
  {
   "cell_type": "code",
   "execution_count": 9,
   "id": "9bd18ded",
   "metadata": {},
   "outputs": [
    {
     "name": "stdout",
     "output_type": "stream",
     "text": [
      "✅ Final DataFrame created with landmarks + pose\n"
     ]
    },
    {
     "data": {
      "text/html": [
       "<div>\n",
       "<style scoped>\n",
       "    .dataframe tbody tr th:only-of-type {\n",
       "        vertical-align: middle;\n",
       "    }\n",
       "\n",
       "    .dataframe tbody tr th {\n",
       "        vertical-align: top;\n",
       "    }\n",
       "\n",
       "    .dataframe thead th {\n",
       "        text-align: right;\n",
       "    }\n",
       "</style>\n",
       "<table border=\"1\" class=\"dataframe\">\n",
       "  <thead>\n",
       "    <tr style=\"text-align: right;\">\n",
       "      <th></th>\n",
       "      <th>image</th>\n",
       "      <th>marks_values</th>\n",
       "      <th>mat_file</th>\n",
       "      <th>yaw</th>\n",
       "      <th>pitch</th>\n",
       "      <th>roll</th>\n",
       "    </tr>\n",
       "  </thead>\n",
       "  <tbody>\n",
       "    <tr>\n",
       "      <th>0</th>\n",
       "      <td>image00002.jpg</td>\n",
       "      <td>[-0.004888512887593222, 0.0, 0.009465049577641...</td>\n",
       "      <td>image00002.mat</td>\n",
       "      <td>0.018227</td>\n",
       "      <td>-0.399231</td>\n",
       "      <td>0.085676</td>\n",
       "    </tr>\n",
       "    <tr>\n",
       "      <th>1</th>\n",
       "      <td>image00004.jpg</td>\n",
       "      <td>[0.09810980194008903, 0.0, 0.09116667846005758...</td>\n",
       "      <td>image00004.mat</td>\n",
       "      <td>1.189533</td>\n",
       "      <td>0.470065</td>\n",
       "      <td>0.300959</td>\n",
       "    </tr>\n",
       "    <tr>\n",
       "      <th>2</th>\n",
       "      <td>image00006.jpg</td>\n",
       "      <td>[0.025413889513647227, 0.0, -0.011194460805470...</td>\n",
       "      <td>image00006.mat</td>\n",
       "      <td>0.881137</td>\n",
       "      <td>-0.184650</td>\n",
       "      <td>-0.236852</td>\n",
       "    </tr>\n",
       "    <tr>\n",
       "      <th>3</th>\n",
       "      <td>image00008.jpg</td>\n",
       "      <td>[0.1455376506244284, 0.0, 0.07284436427867869,...</td>\n",
       "      <td>image00008.mat</td>\n",
       "      <td>0.299208</td>\n",
       "      <td>-0.175379</td>\n",
       "      <td>-0.373374</td>\n",
       "    </tr>\n",
       "    <tr>\n",
       "      <th>4</th>\n",
       "      <td>image00013.jpg</td>\n",
       "      <td>[0.07809535117165153, 0.0, 0.01967548868284996...</td>\n",
       "      <td>image00013.mat</td>\n",
       "      <td>0.011965</td>\n",
       "      <td>-0.026812</td>\n",
       "      <td>-0.220662</td>\n",
       "    </tr>\n",
       "  </tbody>\n",
       "</table>\n",
       "</div>"
      ],
      "text/plain": [
       "            image                                       marks_values  \\\n",
       "0  image00002.jpg  [-0.004888512887593222, 0.0, 0.009465049577641...   \n",
       "1  image00004.jpg  [0.09810980194008903, 0.0, 0.09116667846005758...   \n",
       "2  image00006.jpg  [0.025413889513647227, 0.0, -0.011194460805470...   \n",
       "3  image00008.jpg  [0.1455376506244284, 0.0, 0.07284436427867869,...   \n",
       "4  image00013.jpg  [0.07809535117165153, 0.0, 0.01967548868284996...   \n",
       "\n",
       "         mat_file       yaw     pitch      roll  \n",
       "0  image00002.mat  0.018227 -0.399231  0.085676  \n",
       "1  image00004.mat  1.189533  0.470065  0.300959  \n",
       "2  image00006.mat  0.881137 -0.184650 -0.236852  \n",
       "3  image00008.mat  0.299208 -0.175379 -0.373374  \n",
       "4  image00013.mat  0.011965 -0.026812 -0.220662  "
      ]
     },
     "execution_count": 9,
     "metadata": {},
     "output_type": "execute_result"
    }
   ],
   "source": [
    "# Create the final dataframe\n",
    "df_final = pd.merge(df_landmark, df_pose, on=\"image\", how=\"inner\")\n",
    "\n",
    "print(\"✅ Final DataFrame created with landmarks + pose\")\n",
    "df_final.head()"
   ]
  },
  {
   "cell_type": "code",
   "execution_count": 10,
   "id": "cc3a3fa6",
   "metadata": {},
   "outputs": [
    {
     "name": "stdout",
     "output_type": "stream",
     "text": [
      "X shape: (1843, 956), y shape: (1843, 3)\n"
     ]
    }
   ],
   "source": [
    "# Convert the list of face landmark coordinates into a NumPy array\n",
    "X = np.array(df_final['marks_values'].to_list())\n",
    "# Extract the head pose angles (pitch, yaw, roll) as the target values\n",
    "y = np.array(df_final[['pitch', 'yaw', 'roll']])\n",
    "# Print the shapes\n",
    "print(f\"X shape: {X.shape}, y shape: {y.shape}\")"
   ]
  },
  {
   "cell_type": "code",
   "execution_count": 11,
   "id": "70f7859b",
   "metadata": {},
   "outputs": [],
   "source": [
    "# Train-test split\n",
    "X_train, X_test, y_train, y_test = train_test_split(X, y, test_size=0.2, random_state=42)"
   ]
  },
  {
   "cell_type": "code",
   "execution_count": 12,
   "id": "21159028",
   "metadata": {},
   "outputs": [
    {
     "data": {
      "text/html": [
       "<style>#sk-container-id-1 {color: black;background-color: white;}#sk-container-id-1 pre{padding: 0;}#sk-container-id-1 div.sk-toggleable {background-color: white;}#sk-container-id-1 label.sk-toggleable__label {cursor: pointer;display: block;width: 100%;margin-bottom: 0;padding: 0.3em;box-sizing: border-box;text-align: center;}#sk-container-id-1 label.sk-toggleable__label-arrow:before {content: \"▸\";float: left;margin-right: 0.25em;color: #696969;}#sk-container-id-1 label.sk-toggleable__label-arrow:hover:before {color: black;}#sk-container-id-1 div.sk-estimator:hover label.sk-toggleable__label-arrow:before {color: black;}#sk-container-id-1 div.sk-toggleable__content {max-height: 0;max-width: 0;overflow: hidden;text-align: left;background-color: #f0f8ff;}#sk-container-id-1 div.sk-toggleable__content pre {margin: 0.2em;color: black;border-radius: 0.25em;background-color: #f0f8ff;}#sk-container-id-1 input.sk-toggleable__control:checked~div.sk-toggleable__content {max-height: 200px;max-width: 100%;overflow: auto;}#sk-container-id-1 input.sk-toggleable__control:checked~label.sk-toggleable__label-arrow:before {content: \"▾\";}#sk-container-id-1 div.sk-estimator input.sk-toggleable__control:checked~label.sk-toggleable__label {background-color: #d4ebff;}#sk-container-id-1 div.sk-label input.sk-toggleable__control:checked~label.sk-toggleable__label {background-color: #d4ebff;}#sk-container-id-1 input.sk-hidden--visually {border: 0;clip: rect(1px 1px 1px 1px);clip: rect(1px, 1px, 1px, 1px);height: 1px;margin: -1px;overflow: hidden;padding: 0;position: absolute;width: 1px;}#sk-container-id-1 div.sk-estimator {font-family: monospace;background-color: #f0f8ff;border: 1px dotted black;border-radius: 0.25em;box-sizing: border-box;margin-bottom: 0.5em;}#sk-container-id-1 div.sk-estimator:hover {background-color: #d4ebff;}#sk-container-id-1 div.sk-parallel-item::after {content: \"\";width: 100%;border-bottom: 1px solid gray;flex-grow: 1;}#sk-container-id-1 div.sk-label:hover label.sk-toggleable__label {background-color: #d4ebff;}#sk-container-id-1 div.sk-serial::before {content: \"\";position: absolute;border-left: 1px solid gray;box-sizing: border-box;top: 0;bottom: 0;left: 50%;z-index: 0;}#sk-container-id-1 div.sk-serial {display: flex;flex-direction: column;align-items: center;background-color: white;padding-right: 0.2em;padding-left: 0.2em;position: relative;}#sk-container-id-1 div.sk-item {position: relative;z-index: 1;}#sk-container-id-1 div.sk-parallel {display: flex;align-items: stretch;justify-content: center;background-color: white;position: relative;}#sk-container-id-1 div.sk-item::before, #sk-container-id-1 div.sk-parallel-item::before {content: \"\";position: absolute;border-left: 1px solid gray;box-sizing: border-box;top: 0;bottom: 0;left: 50%;z-index: -1;}#sk-container-id-1 div.sk-parallel-item {display: flex;flex-direction: column;z-index: 1;position: relative;background-color: white;}#sk-container-id-1 div.sk-parallel-item:first-child::after {align-self: flex-end;width: 50%;}#sk-container-id-1 div.sk-parallel-item:last-child::after {align-self: flex-start;width: 50%;}#sk-container-id-1 div.sk-parallel-item:only-child::after {width: 0;}#sk-container-id-1 div.sk-dashed-wrapped {border: 1px dashed gray;margin: 0 0.4em 0.5em 0.4em;box-sizing: border-box;padding-bottom: 0.4em;background-color: white;}#sk-container-id-1 div.sk-label label {font-family: monospace;font-weight: bold;display: inline-block;line-height: 1.2em;}#sk-container-id-1 div.sk-label-container {text-align: center;}#sk-container-id-1 div.sk-container {/* jupyter's `normalize.less` sets `[hidden] { display: none; }` but bootstrap.min.css set `[hidden] { display: none !important; }` so we also need the `!important` here to be able to override the default hidden behavior on the sphinx rendered scikit-learn.org. See: https://github.com/scikit-learn/scikit-learn/issues/21755 */display: inline-block !important;position: relative;}#sk-container-id-1 div.sk-text-repr-fallback {display: none;}</style><div id=\"sk-container-id-1\" class=\"sk-top-container\"><div class=\"sk-text-repr-fallback\"><pre>MultiOutputRegressor(estimator=SVR(C=3, epsilon=0.005, gamma=0.005))</pre><b>In a Jupyter environment, please rerun this cell to show the HTML representation or trust the notebook. <br />On GitHub, the HTML representation is unable to render, please try loading this page with nbviewer.org.</b></div><div class=\"sk-container\" hidden><div class=\"sk-item sk-dashed-wrapped\"><div class=\"sk-label-container\"><div class=\"sk-label sk-toggleable\"><input class=\"sk-toggleable__control sk-hidden--visually\" id=\"sk-estimator-id-1\" type=\"checkbox\" ><label for=\"sk-estimator-id-1\" class=\"sk-toggleable__label sk-toggleable__label-arrow\">MultiOutputRegressor</label><div class=\"sk-toggleable__content\"><pre>MultiOutputRegressor(estimator=SVR(C=3, epsilon=0.005, gamma=0.005))</pre></div></div></div><div class=\"sk-parallel\"><div class=\"sk-parallel-item\"><div class=\"sk-item\"><div class=\"sk-label-container\"><div class=\"sk-label sk-toggleable\"><input class=\"sk-toggleable__control sk-hidden--visually\" id=\"sk-estimator-id-2\" type=\"checkbox\" ><label for=\"sk-estimator-id-2\" class=\"sk-toggleable__label sk-toggleable__label-arrow\">estimator: SVR</label><div class=\"sk-toggleable__content\"><pre>SVR(C=3, epsilon=0.005, gamma=0.005)</pre></div></div></div><div class=\"sk-serial\"><div class=\"sk-item\"><div class=\"sk-estimator sk-toggleable\"><input class=\"sk-toggleable__control sk-hidden--visually\" id=\"sk-estimator-id-3\" type=\"checkbox\" ><label for=\"sk-estimator-id-3\" class=\"sk-toggleable__label sk-toggleable__label-arrow\">SVR</label><div class=\"sk-toggleable__content\"><pre>SVR(C=3, epsilon=0.005, gamma=0.005)</pre></div></div></div></div></div></div></div></div></div></div>"
      ],
      "text/plain": [
       "MultiOutputRegressor(estimator=SVR(C=3, epsilon=0.005, gamma=0.005))"
      ]
     },
     "execution_count": 12,
     "metadata": {},
     "output_type": "execute_result"
    }
   ],
   "source": [
    "# Train SVR with MultiOutputRegressor\n",
    "regressor = SVR(kernel='rbf', C=3, gamma=0.005, degree=3, epsilon=0.005)\n",
    "multi_output_regressor = MultiOutputRegressor(regressor)\n",
    "multi_output_regressor.fit(X_train, y_train)"
   ]
  },
  {
   "cell_type": "code",
   "execution_count": 13,
   "id": "e0680bc1",
   "metadata": {},
   "outputs": [
    {
     "name": "stdout",
     "output_type": "stream",
     "text": [
      "Mean Squared Error: 0.0194\n",
      "Median Absolute Percentage Error: 21.99%\n",
      "Median Squared Percentage Error: -0.05%\n",
      "R² Score: 0.8031\n"
     ]
    }
   ],
   "source": [
    "# Evaluate\n",
    "predictions = multi_output_regressor.predict(X_test)\n",
    "mse = mean_squared_error(y_test, predictions)\n",
    "med_ape = np.median(np.abs((y_test - predictions) / y_test), axis=None) * 100\n",
    "med_spe = np.median(((y_test - predictions) ** 2 / y_test), axis=None) * 100\n",
    "r2 = r2_score(y_test, predictions)\n",
    "\n",
    "print(f'Mean Squared Error: {mse:.4f}')\n",
    "print(f'Median Absolute Percentage Error: {med_ape:.2f}%')\n",
    "print(f'Median Squared Percentage Error: {med_spe:.2f}%')\n",
    "print(f'R² Score: {r2:.4f}')"
   ]
  },
  {
   "cell_type": "code",
   "execution_count": 14,
   "id": "837b7046",
   "metadata": {},
   "outputs": [],
   "source": [
    "# Save model\n",
    "with open('svr_model.pkl', 'wb') as f:\n",
    "    pickle.dump(multi_output_regressor, f)"
   ]
  },
  {
   "cell_type": "code",
   "execution_count": 15,
   "id": "51446448",
   "metadata": {},
   "outputs": [
    {
     "data": {
      "text/plain": [
       "0.8545858219520569"
      ]
     },
     "execution_count": 15,
     "metadata": {},
     "output_type": "execute_result"
    }
   ],
   "source": [
    "multi_output_regressor.score(X_train, y_train)\n"
   ]
  }
 ],
 "metadata": {
  "kernelspec": {
   "display_name": "Python 3",
   "language": "python",
   "name": "python3"
  },
  "language_info": {
   "codemirror_mode": {
    "name": "ipython",
    "version": 3
   },
   "file_extension": ".py",
   "mimetype": "text/x-python",
   "name": "python",
   "nbconvert_exporter": "python",
   "pygments_lexer": "ipython3",
   "version": "3.11.4"
  }
 },
 "nbformat": 4,
 "nbformat_minor": 5
}
